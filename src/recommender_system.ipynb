{
 "cells": [
  {
   "cell_type": "code",
   "execution_count": 3,
   "metadata": {},
   "outputs": [
    {
     "name": "stdout",
     "output_type": "stream",
     "text": [
      "Requirement already satisfied: pandas in c:\\users\\alexl\\desktop\\spotifyrecengine\\env\\lib\\site-packages (2.2.2)\n",
      "Requirement already satisfied: numpy>=1.23.2 in c:\\users\\alexl\\desktop\\spotifyrecengine\\env\\lib\\site-packages (from pandas) (2.1.1)\n",
      "Requirement already satisfied: python-dateutil>=2.8.2 in c:\\users\\alexl\\desktop\\spotifyrecengine\\env\\lib\\site-packages (from pandas) (2.9.0.post0)\n",
      "Requirement already satisfied: pytz>=2020.1 in c:\\users\\alexl\\desktop\\spotifyrecengine\\env\\lib\\site-packages (from pandas) (2024.2)\n",
      "Requirement already satisfied: tzdata>=2022.7 in c:\\users\\alexl\\desktop\\spotifyrecengine\\env\\lib\\site-packages (from pandas) (2024.1)\n",
      "Requirement already satisfied: six>=1.5 in c:\\users\\alexl\\desktop\\spotifyrecengine\\env\\lib\\site-packages (from python-dateutil>=2.8.2->pandas) (1.16.0)\n",
      "Note: you may need to restart the kernel to use updated packages.\n",
      "Requirement already satisfied: chardet in c:\\users\\alexl\\desktop\\spotifyrecengine\\env\\lib\\site-packages (5.2.0)\n",
      "Note: you may need to restart the kernel to use updated packages.\n"
     ]
    }
   ],
   "source": [
    "%pip install pandas\n",
    "%pip install chardet\n"
   ]
  },
  {
   "cell_type": "code",
   "execution_count": 4,
   "metadata": {},
   "outputs": [],
   "source": [
    "import pandas as pd\n",
    "import chardet"
   ]
  },
  {
   "cell_type": "code",
   "execution_count": 5,
   "metadata": {},
   "outputs": [],
   "source": [
    "def process_chunk(chunk):\n",
    "    # lógica para procesar cada chunk\n",
    "    return chunk\n",
    "\n",
    "\n",
    "def detect_encoding(file_path):\n",
    "    try:\n",
    "        with open(file_path, 'rb') as f:\n",
    "            result = chardet.detect(f.read())\n",
    "        return result['encoding']\n",
    "    except Exception as e:\n",
    "        print(f\"Error al detectar la codificación del archivo: {e}\")\n",
    "        return None\n",
    "\n",
    "\n",
    "def get_data_from_csv(file_path, chunk_size=10000):\n",
    "    try:\n",
    "        encoding = detect_encoding(file_path)\n",
    "        if encoding is None:\n",
    "            raise ValueError(\n",
    "                \"No se pudo detectar la codificación del archivo.\")\n",
    "\n",
    "        chunks = []\n",
    "        for chunk in pd.read_csv(file_path, chunksize=chunk_size, encoding=encoding):\n",
    "            processed_chunk = process_chunk(chunk)\n",
    "            chunks.append(processed_chunk)\n",
    "\n",
    "        # Combina todos los chunks procesados en un solo DataFrame\n",
    "        data = pd.concat(chunks, ignore_index=True)\n",
    "        return data\n",
    "    except pd.errors.EmptyDataError:\n",
    "        print(\"El archivo CSV está vacío.\")\n",
    "    except pd.errors.ParserError:\n",
    "        print(\"Error al analizar el archivo CSV.\")\n",
    "    except FileNotFoundError:\n",
    "        print(f\"El archivo {file_path} no se encontró.\")\n",
    "    except ValueError as ve:\n",
    "        print(ve)\n",
    "    except Exception as e:\n",
    "        print(f\"Se produjo un error inesperado: {e}\")\n",
    "    return None"
   ]
  },
  {
   "cell_type": "code",
   "execution_count": 8,
   "metadata": {},
   "outputs": [
    {
     "name": "stdout",
     "output_type": "stream",
     "text": [
      "Error al detectar la codificación del archivo: [Errno 2] No such file or directory: './data/spotify_songs.csv'\n",
      "No se pudo detectar la codificación del archivo.\n"
     ]
    }
   ],
   "source": [
    "spotify_sogns_df = get_data_from_csv(\"./data/spotify_songs.csv\")"
   ]
  }
 ],
 "metadata": {
  "kernelspec": {
   "display_name": "env",
   "language": "python",
   "name": "python3"
  },
  "language_info": {
   "codemirror_mode": {
    "name": "ipython",
    "version": 3
   },
   "file_extension": ".py",
   "mimetype": "text/x-python",
   "name": "python",
   "nbconvert_exporter": "python",
   "pygments_lexer": "ipython3",
   "version": "3.11.4"
  }
 },
 "nbformat": 4,
 "nbformat_minor": 2
}
